{
  "nbformat": 4,
  "nbformat_minor": 0,
  "metadata": {
    "colab": {
      "name": "predictive_modelling_XGB",
      "provenance": [],
      "collapsed_sections": []
    },
    "kernelspec": {
      "name": "python3",
      "display_name": "Python 3"
    },
    "language_info": {
      "name": "python"
    }
  },
  "cells": [
    {
      "cell_type": "code",
      "metadata": {
        "id": "CG3i0CW-xdTF",
        "colab": {
          "base_uri": "https://localhost:8080/"
        },
        "outputId": "6d19a249-9ef0-4641-9a35-63d44c91fefb"
      },
      "source": [
        "from google.colab import drive\n",
        "\n",
        "drive.mount('/content/drive')"
      ],
      "execution_count": 2,
      "outputs": [
        {
          "output_type": "stream",
          "name": "stdout",
          "text": [
            "Mounted at /content/drive\n"
          ]
        }
      ]
    },
    {
      "cell_type": "code",
      "metadata": {
        "id": "U04DKjPGxhSc"
      },
      "source": [
        "import pandas as pd\n",
        "import numpy as np\n",
        "import seaborn as sns\n",
        "import matplotlib.pyplot as plt\n",
        "%matplotlib inline\n",
        "import warnings\n",
        "warnings.filterwarnings(\"ignore\", category=DeprecationWarning)"
      ],
      "execution_count": 3,
      "outputs": []
    },
    {
      "cell_type": "code",
      "metadata": {
        "id": "T3kiI0F5xokf"
      },
      "source": [
        "df = pd.read_excel(\"/content/drive/MyDrive/Hackathon_2021/Predictive Modelling - Data file.xlsx\",sheet_name = \"train\") \n",
        "    "
      ],
      "execution_count": 14,
      "outputs": []
    },
    {
      "cell_type": "code",
      "source": [
        "df.head()"
      ],
      "metadata": {
        "colab": {
          "base_uri": "https://localhost:8080/",
          "height": 270
        },
        "id": "40uP-DKW-lDd",
        "outputId": "1610fbc9-9c58-4e93-9326-f328e13c4668"
      },
      "execution_count": 15,
      "outputs": [
        {
          "output_type": "execute_result",
          "data": {
            "text/plain": [
              "   id order_date order_day_of_week store  supplier_id  product_id category  \\\n",
              "0   1 2017-01-02            Monday    s1           50       28483     c654   \n",
              "1   2 2017-01-02            Monday    s1           50       40917     c896   \n",
              "2   3 2017-01-02            Monday    s1           50      136366     c896   \n",
              "3   4 2017-01-02            Monday    s1           50      136344     c762   \n",
              "4   5 2017-01-02            Monday    s1           50      136078     c672   \n",
              "\n",
              "   on_order_quantity  on_hand_quantity  product_case_pack  retail_price  \\\n",
              "0                  0          0.625000                 16          2.60   \n",
              "1                  0          0.125000                  8          2.95   \n",
              "2                  0          0.833333                  6          2.50   \n",
              "3                  0          0.375000                  8          3.95   \n",
              "4                  0          0.750000                  4          2.80   \n",
              "\n",
              "   replenishment_unit_cost forecast_start_date forecast_end_date  \\\n",
              "0                    18.56          2017-01-02        2017-01-08   \n",
              "1                    11.28          2017-01-02        2017-01-08   \n",
              "2                     4.76          2017-01-02        2017-01-08   \n",
              "3                    15.04          2017-01-02        2017-01-08   \n",
              "4                     4.56          2017-01-02        2017-01-08   \n",
              "\n",
              "   Ao_Forecast_Quantity  Minimum_Order_Quantity  Maximum_Order_Quantity  \\\n",
              "0                  8.50                       2                      48   \n",
              "1                  1.95                       2                      20   \n",
              "2                  0.80                       5                      40   \n",
              "3                  1.55                       2                      20   \n",
              "4                  1.15                       2                      12   \n",
              "\n",
              "   lead_time  suggested_order_quantity  actual_order_quantity  \n",
              "0          2                         1                    1.0  \n",
              "1          2                         1                    1.0  \n",
              "2          2                         1                    2.0  \n",
              "3          2                         1                    1.0  \n",
              "4          2                         1                    1.0  "
            ],
            "text/html": [
              "\n",
              "  <div id=\"df-02c7c166-fe24-4ae6-b228-fab5b4b59045\">\n",
              "    <div class=\"colab-df-container\">\n",
              "      <div>\n",
              "<style scoped>\n",
              "    .dataframe tbody tr th:only-of-type {\n",
              "        vertical-align: middle;\n",
              "    }\n",
              "\n",
              "    .dataframe tbody tr th {\n",
              "        vertical-align: top;\n",
              "    }\n",
              "\n",
              "    .dataframe thead th {\n",
              "        text-align: right;\n",
              "    }\n",
              "</style>\n",
              "<table border=\"1\" class=\"dataframe\">\n",
              "  <thead>\n",
              "    <tr style=\"text-align: right;\">\n",
              "      <th></th>\n",
              "      <th>id</th>\n",
              "      <th>order_date</th>\n",
              "      <th>order_day_of_week</th>\n",
              "      <th>store</th>\n",
              "      <th>supplier_id</th>\n",
              "      <th>product_id</th>\n",
              "      <th>category</th>\n",
              "      <th>on_order_quantity</th>\n",
              "      <th>on_hand_quantity</th>\n",
              "      <th>product_case_pack</th>\n",
              "      <th>retail_price</th>\n",
              "      <th>replenishment_unit_cost</th>\n",
              "      <th>forecast_start_date</th>\n",
              "      <th>forecast_end_date</th>\n",
              "      <th>Ao_Forecast_Quantity</th>\n",
              "      <th>Minimum_Order_Quantity</th>\n",
              "      <th>Maximum_Order_Quantity</th>\n",
              "      <th>lead_time</th>\n",
              "      <th>suggested_order_quantity</th>\n",
              "      <th>actual_order_quantity</th>\n",
              "    </tr>\n",
              "  </thead>\n",
              "  <tbody>\n",
              "    <tr>\n",
              "      <th>0</th>\n",
              "      <td>1</td>\n",
              "      <td>2017-01-02</td>\n",
              "      <td>Monday</td>\n",
              "      <td>s1</td>\n",
              "      <td>50</td>\n",
              "      <td>28483</td>\n",
              "      <td>c654</td>\n",
              "      <td>0</td>\n",
              "      <td>0.625000</td>\n",
              "      <td>16</td>\n",
              "      <td>2.60</td>\n",
              "      <td>18.56</td>\n",
              "      <td>2017-01-02</td>\n",
              "      <td>2017-01-08</td>\n",
              "      <td>8.50</td>\n",
              "      <td>2</td>\n",
              "      <td>48</td>\n",
              "      <td>2</td>\n",
              "      <td>1</td>\n",
              "      <td>1.0</td>\n",
              "    </tr>\n",
              "    <tr>\n",
              "      <th>1</th>\n",
              "      <td>2</td>\n",
              "      <td>2017-01-02</td>\n",
              "      <td>Monday</td>\n",
              "      <td>s1</td>\n",
              "      <td>50</td>\n",
              "      <td>40917</td>\n",
              "      <td>c896</td>\n",
              "      <td>0</td>\n",
              "      <td>0.125000</td>\n",
              "      <td>8</td>\n",
              "      <td>2.95</td>\n",
              "      <td>11.28</td>\n",
              "      <td>2017-01-02</td>\n",
              "      <td>2017-01-08</td>\n",
              "      <td>1.95</td>\n",
              "      <td>2</td>\n",
              "      <td>20</td>\n",
              "      <td>2</td>\n",
              "      <td>1</td>\n",
              "      <td>1.0</td>\n",
              "    </tr>\n",
              "    <tr>\n",
              "      <th>2</th>\n",
              "      <td>3</td>\n",
              "      <td>2017-01-02</td>\n",
              "      <td>Monday</td>\n",
              "      <td>s1</td>\n",
              "      <td>50</td>\n",
              "      <td>136366</td>\n",
              "      <td>c896</td>\n",
              "      <td>0</td>\n",
              "      <td>0.833333</td>\n",
              "      <td>6</td>\n",
              "      <td>2.50</td>\n",
              "      <td>4.76</td>\n",
              "      <td>2017-01-02</td>\n",
              "      <td>2017-01-08</td>\n",
              "      <td>0.80</td>\n",
              "      <td>5</td>\n",
              "      <td>40</td>\n",
              "      <td>2</td>\n",
              "      <td>1</td>\n",
              "      <td>2.0</td>\n",
              "    </tr>\n",
              "    <tr>\n",
              "      <th>3</th>\n",
              "      <td>4</td>\n",
              "      <td>2017-01-02</td>\n",
              "      <td>Monday</td>\n",
              "      <td>s1</td>\n",
              "      <td>50</td>\n",
              "      <td>136344</td>\n",
              "      <td>c762</td>\n",
              "      <td>0</td>\n",
              "      <td>0.375000</td>\n",
              "      <td>8</td>\n",
              "      <td>3.95</td>\n",
              "      <td>15.04</td>\n",
              "      <td>2017-01-02</td>\n",
              "      <td>2017-01-08</td>\n",
              "      <td>1.55</td>\n",
              "      <td>2</td>\n",
              "      <td>20</td>\n",
              "      <td>2</td>\n",
              "      <td>1</td>\n",
              "      <td>1.0</td>\n",
              "    </tr>\n",
              "    <tr>\n",
              "      <th>4</th>\n",
              "      <td>5</td>\n",
              "      <td>2017-01-02</td>\n",
              "      <td>Monday</td>\n",
              "      <td>s1</td>\n",
              "      <td>50</td>\n",
              "      <td>136078</td>\n",
              "      <td>c672</td>\n",
              "      <td>0</td>\n",
              "      <td>0.750000</td>\n",
              "      <td>4</td>\n",
              "      <td>2.80</td>\n",
              "      <td>4.56</td>\n",
              "      <td>2017-01-02</td>\n",
              "      <td>2017-01-08</td>\n",
              "      <td>1.15</td>\n",
              "      <td>2</td>\n",
              "      <td>12</td>\n",
              "      <td>2</td>\n",
              "      <td>1</td>\n",
              "      <td>1.0</td>\n",
              "    </tr>\n",
              "  </tbody>\n",
              "</table>\n",
              "</div>\n",
              "      <button class=\"colab-df-convert\" onclick=\"convertToInteractive('df-02c7c166-fe24-4ae6-b228-fab5b4b59045')\"\n",
              "              title=\"Convert this dataframe to an interactive table.\"\n",
              "              style=\"display:none;\">\n",
              "        \n",
              "  <svg xmlns=\"http://www.w3.org/2000/svg\" height=\"24px\"viewBox=\"0 0 24 24\"\n",
              "       width=\"24px\">\n",
              "    <path d=\"M0 0h24v24H0V0z\" fill=\"none\"/>\n",
              "    <path d=\"M18.56 5.44l.94 2.06.94-2.06 2.06-.94-2.06-.94-.94-2.06-.94 2.06-2.06.94zm-11 1L8.5 8.5l.94-2.06 2.06-.94-2.06-.94L8.5 2.5l-.94 2.06-2.06.94zm10 10l.94 2.06.94-2.06 2.06-.94-2.06-.94-.94-2.06-.94 2.06-2.06.94z\"/><path d=\"M17.41 7.96l-1.37-1.37c-.4-.4-.92-.59-1.43-.59-.52 0-1.04.2-1.43.59L10.3 9.45l-7.72 7.72c-.78.78-.78 2.05 0 2.83L4 21.41c.39.39.9.59 1.41.59.51 0 1.02-.2 1.41-.59l7.78-7.78 2.81-2.81c.8-.78.8-2.07 0-2.86zM5.41 20L4 18.59l7.72-7.72 1.47 1.35L5.41 20z\"/>\n",
              "  </svg>\n",
              "      </button>\n",
              "      \n",
              "  <style>\n",
              "    .colab-df-container {\n",
              "      display:flex;\n",
              "      flex-wrap:wrap;\n",
              "      gap: 12px;\n",
              "    }\n",
              "\n",
              "    .colab-df-convert {\n",
              "      background-color: #E8F0FE;\n",
              "      border: none;\n",
              "      border-radius: 50%;\n",
              "      cursor: pointer;\n",
              "      display: none;\n",
              "      fill: #1967D2;\n",
              "      height: 32px;\n",
              "      padding: 0 0 0 0;\n",
              "      width: 32px;\n",
              "    }\n",
              "\n",
              "    .colab-df-convert:hover {\n",
              "      background-color: #E2EBFA;\n",
              "      box-shadow: 0px 1px 2px rgba(60, 64, 67, 0.3), 0px 1px 3px 1px rgba(60, 64, 67, 0.15);\n",
              "      fill: #174EA6;\n",
              "    }\n",
              "\n",
              "    [theme=dark] .colab-df-convert {\n",
              "      background-color: #3B4455;\n",
              "      fill: #D2E3FC;\n",
              "    }\n",
              "\n",
              "    [theme=dark] .colab-df-convert:hover {\n",
              "      background-color: #434B5C;\n",
              "      box-shadow: 0px 1px 3px 1px rgba(0, 0, 0, 0.15);\n",
              "      filter: drop-shadow(0px 1px 2px rgba(0, 0, 0, 0.3));\n",
              "      fill: #FFFFFF;\n",
              "    }\n",
              "  </style>\n",
              "\n",
              "      <script>\n",
              "        const buttonEl =\n",
              "          document.querySelector('#df-02c7c166-fe24-4ae6-b228-fab5b4b59045 button.colab-df-convert');\n",
              "        buttonEl.style.display =\n",
              "          google.colab.kernel.accessAllowed ? 'block' : 'none';\n",
              "\n",
              "        async function convertToInteractive(key) {\n",
              "          const element = document.querySelector('#df-02c7c166-fe24-4ae6-b228-fab5b4b59045');\n",
              "          const dataTable =\n",
              "            await google.colab.kernel.invokeFunction('convertToInteractive',\n",
              "                                                     [key], {});\n",
              "          if (!dataTable) return;\n",
              "\n",
              "          const docLinkHtml = 'Like what you see? Visit the ' +\n",
              "            '<a target=\"_blank\" href=https://colab.research.google.com/notebooks/data_table.ipynb>data table notebook</a>'\n",
              "            + ' to learn more about interactive tables.';\n",
              "          element.innerHTML = '';\n",
              "          dataTable['output_type'] = 'display_data';\n",
              "          await google.colab.output.renderOutput(dataTable, element);\n",
              "          const docLink = document.createElement('div');\n",
              "          docLink.innerHTML = docLinkHtml;\n",
              "          element.appendChild(docLink);\n",
              "        }\n",
              "      </script>\n",
              "    </div>\n",
              "  </div>\n",
              "  "
            ]
          },
          "metadata": {},
          "execution_count": 15
        }
      ]
    },
    {
      "cell_type": "markdown",
      "source": [
        "### Data Preprocessing"
      ],
      "metadata": {
        "id": "-EImzfSFJGcz"
      }
    },
    {
      "cell_type": "code",
      "metadata": {
        "id": "B2MAPr8xxrLi"
      },
      "source": [
        "df['order_date_year'] = df['order_date'].dt.year\n",
        "df['order_date_month'] = df['order_date'].dt.month\n",
        "df['order_date_day'] = df['order_date'].dt.day\n",
        "df['order_date_day_of_week'] = df['order_date'].dt.dayofweek"
      ],
      "execution_count": 16,
      "outputs": []
    },
    {
      "cell_type": "code",
      "metadata": {
        "id": "U5oWNM7WxzCs"
      },
      "source": [
        "#removing redundant and unnecessary columns\n",
        "df.drop(columns = ['id','order_day_of_week'],inplace = True)"
      ],
      "execution_count": 17,
      "outputs": []
    },
    {
      "cell_type": "code",
      "metadata": {
        "id": "kGkzyXTRx2gG"
      },
      "source": [
        "from datetime import datetime\n",
        "df.loc[df['order_date'] == df['forecast_start_date']].shape   #indicates order date is same as forecast_start_date for all the records\n",
        "df['forecast_period'] = (df['forecast_end_date'] - df['forecast_start_date']).dt.days"
      ],
      "execution_count": 18,
      "outputs": []
    },
    {
      "cell_type": "code",
      "metadata": {
        "id": "sLovf5u-yCvy"
      },
      "source": [
        "#dropping date field columns\n",
        "df.drop(columns = ['order_date','forecast_start_date','forecast_end_date'],inplace = True)"
      ],
      "execution_count": 19,
      "outputs": []
    },
    {
      "cell_type": "code",
      "source": [
        "df.head()"
      ],
      "metadata": {
        "colab": {
          "base_uri": "https://localhost:8080/",
          "height": 270
        },
        "id": "k-1dEgPO-2yB",
        "outputId": "f3405ca8-fd07-4fd0-e032-a1dd3fc1eafa"
      },
      "execution_count": 20,
      "outputs": [
        {
          "output_type": "execute_result",
          "data": {
            "text/plain": [
              "  store  supplier_id  product_id category  on_order_quantity  \\\n",
              "0    s1           50       28483     c654                  0   \n",
              "1    s1           50       40917     c896                  0   \n",
              "2    s1           50      136366     c896                  0   \n",
              "3    s1           50      136344     c762                  0   \n",
              "4    s1           50      136078     c672                  0   \n",
              "\n",
              "   on_hand_quantity  product_case_pack  retail_price  replenishment_unit_cost  \\\n",
              "0          0.625000                 16          2.60                    18.56   \n",
              "1          0.125000                  8          2.95                    11.28   \n",
              "2          0.833333                  6          2.50                     4.76   \n",
              "3          0.375000                  8          3.95                    15.04   \n",
              "4          0.750000                  4          2.80                     4.56   \n",
              "\n",
              "   Ao_Forecast_Quantity  Minimum_Order_Quantity  Maximum_Order_Quantity  \\\n",
              "0                  8.50                       2                      48   \n",
              "1                  1.95                       2                      20   \n",
              "2                  0.80                       5                      40   \n",
              "3                  1.55                       2                      20   \n",
              "4                  1.15                       2                      12   \n",
              "\n",
              "   lead_time  suggested_order_quantity  actual_order_quantity  \\\n",
              "0          2                         1                    1.0   \n",
              "1          2                         1                    1.0   \n",
              "2          2                         1                    2.0   \n",
              "3          2                         1                    1.0   \n",
              "4          2                         1                    1.0   \n",
              "\n",
              "   order_date_year  order_date_month  order_date_day  order_date_day_of_week  \\\n",
              "0             2017                 1               2                       0   \n",
              "1             2017                 1               2                       0   \n",
              "2             2017                 1               2                       0   \n",
              "3             2017                 1               2                       0   \n",
              "4             2017                 1               2                       0   \n",
              "\n",
              "   forecast_period  \n",
              "0                6  \n",
              "1                6  \n",
              "2                6  \n",
              "3                6  \n",
              "4                6  "
            ],
            "text/html": [
              "\n",
              "  <div id=\"df-80a39fbf-a88d-482a-bb42-3a4efcb34e7d\">\n",
              "    <div class=\"colab-df-container\">\n",
              "      <div>\n",
              "<style scoped>\n",
              "    .dataframe tbody tr th:only-of-type {\n",
              "        vertical-align: middle;\n",
              "    }\n",
              "\n",
              "    .dataframe tbody tr th {\n",
              "        vertical-align: top;\n",
              "    }\n",
              "\n",
              "    .dataframe thead th {\n",
              "        text-align: right;\n",
              "    }\n",
              "</style>\n",
              "<table border=\"1\" class=\"dataframe\">\n",
              "  <thead>\n",
              "    <tr style=\"text-align: right;\">\n",
              "      <th></th>\n",
              "      <th>store</th>\n",
              "      <th>supplier_id</th>\n",
              "      <th>product_id</th>\n",
              "      <th>category</th>\n",
              "      <th>on_order_quantity</th>\n",
              "      <th>on_hand_quantity</th>\n",
              "      <th>product_case_pack</th>\n",
              "      <th>retail_price</th>\n",
              "      <th>replenishment_unit_cost</th>\n",
              "      <th>Ao_Forecast_Quantity</th>\n",
              "      <th>Minimum_Order_Quantity</th>\n",
              "      <th>Maximum_Order_Quantity</th>\n",
              "      <th>lead_time</th>\n",
              "      <th>suggested_order_quantity</th>\n",
              "      <th>actual_order_quantity</th>\n",
              "      <th>order_date_year</th>\n",
              "      <th>order_date_month</th>\n",
              "      <th>order_date_day</th>\n",
              "      <th>order_date_day_of_week</th>\n",
              "      <th>forecast_period</th>\n",
              "    </tr>\n",
              "  </thead>\n",
              "  <tbody>\n",
              "    <tr>\n",
              "      <th>0</th>\n",
              "      <td>s1</td>\n",
              "      <td>50</td>\n",
              "      <td>28483</td>\n",
              "      <td>c654</td>\n",
              "      <td>0</td>\n",
              "      <td>0.625000</td>\n",
              "      <td>16</td>\n",
              "      <td>2.60</td>\n",
              "      <td>18.56</td>\n",
              "      <td>8.50</td>\n",
              "      <td>2</td>\n",
              "      <td>48</td>\n",
              "      <td>2</td>\n",
              "      <td>1</td>\n",
              "      <td>1.0</td>\n",
              "      <td>2017</td>\n",
              "      <td>1</td>\n",
              "      <td>2</td>\n",
              "      <td>0</td>\n",
              "      <td>6</td>\n",
              "    </tr>\n",
              "    <tr>\n",
              "      <th>1</th>\n",
              "      <td>s1</td>\n",
              "      <td>50</td>\n",
              "      <td>40917</td>\n",
              "      <td>c896</td>\n",
              "      <td>0</td>\n",
              "      <td>0.125000</td>\n",
              "      <td>8</td>\n",
              "      <td>2.95</td>\n",
              "      <td>11.28</td>\n",
              "      <td>1.95</td>\n",
              "      <td>2</td>\n",
              "      <td>20</td>\n",
              "      <td>2</td>\n",
              "      <td>1</td>\n",
              "      <td>1.0</td>\n",
              "      <td>2017</td>\n",
              "      <td>1</td>\n",
              "      <td>2</td>\n",
              "      <td>0</td>\n",
              "      <td>6</td>\n",
              "    </tr>\n",
              "    <tr>\n",
              "      <th>2</th>\n",
              "      <td>s1</td>\n",
              "      <td>50</td>\n",
              "      <td>136366</td>\n",
              "      <td>c896</td>\n",
              "      <td>0</td>\n",
              "      <td>0.833333</td>\n",
              "      <td>6</td>\n",
              "      <td>2.50</td>\n",
              "      <td>4.76</td>\n",
              "      <td>0.80</td>\n",
              "      <td>5</td>\n",
              "      <td>40</td>\n",
              "      <td>2</td>\n",
              "      <td>1</td>\n",
              "      <td>2.0</td>\n",
              "      <td>2017</td>\n",
              "      <td>1</td>\n",
              "      <td>2</td>\n",
              "      <td>0</td>\n",
              "      <td>6</td>\n",
              "    </tr>\n",
              "    <tr>\n",
              "      <th>3</th>\n",
              "      <td>s1</td>\n",
              "      <td>50</td>\n",
              "      <td>136344</td>\n",
              "      <td>c762</td>\n",
              "      <td>0</td>\n",
              "      <td>0.375000</td>\n",
              "      <td>8</td>\n",
              "      <td>3.95</td>\n",
              "      <td>15.04</td>\n",
              "      <td>1.55</td>\n",
              "      <td>2</td>\n",
              "      <td>20</td>\n",
              "      <td>2</td>\n",
              "      <td>1</td>\n",
              "      <td>1.0</td>\n",
              "      <td>2017</td>\n",
              "      <td>1</td>\n",
              "      <td>2</td>\n",
              "      <td>0</td>\n",
              "      <td>6</td>\n",
              "    </tr>\n",
              "    <tr>\n",
              "      <th>4</th>\n",
              "      <td>s1</td>\n",
              "      <td>50</td>\n",
              "      <td>136078</td>\n",
              "      <td>c672</td>\n",
              "      <td>0</td>\n",
              "      <td>0.750000</td>\n",
              "      <td>4</td>\n",
              "      <td>2.80</td>\n",
              "      <td>4.56</td>\n",
              "      <td>1.15</td>\n",
              "      <td>2</td>\n",
              "      <td>12</td>\n",
              "      <td>2</td>\n",
              "      <td>1</td>\n",
              "      <td>1.0</td>\n",
              "      <td>2017</td>\n",
              "      <td>1</td>\n",
              "      <td>2</td>\n",
              "      <td>0</td>\n",
              "      <td>6</td>\n",
              "    </tr>\n",
              "  </tbody>\n",
              "</table>\n",
              "</div>\n",
              "      <button class=\"colab-df-convert\" onclick=\"convertToInteractive('df-80a39fbf-a88d-482a-bb42-3a4efcb34e7d')\"\n",
              "              title=\"Convert this dataframe to an interactive table.\"\n",
              "              style=\"display:none;\">\n",
              "        \n",
              "  <svg xmlns=\"http://www.w3.org/2000/svg\" height=\"24px\"viewBox=\"0 0 24 24\"\n",
              "       width=\"24px\">\n",
              "    <path d=\"M0 0h24v24H0V0z\" fill=\"none\"/>\n",
              "    <path d=\"M18.56 5.44l.94 2.06.94-2.06 2.06-.94-2.06-.94-.94-2.06-.94 2.06-2.06.94zm-11 1L8.5 8.5l.94-2.06 2.06-.94-2.06-.94L8.5 2.5l-.94 2.06-2.06.94zm10 10l.94 2.06.94-2.06 2.06-.94-2.06-.94-.94-2.06-.94 2.06-2.06.94z\"/><path d=\"M17.41 7.96l-1.37-1.37c-.4-.4-.92-.59-1.43-.59-.52 0-1.04.2-1.43.59L10.3 9.45l-7.72 7.72c-.78.78-.78 2.05 0 2.83L4 21.41c.39.39.9.59 1.41.59.51 0 1.02-.2 1.41-.59l7.78-7.78 2.81-2.81c.8-.78.8-2.07 0-2.86zM5.41 20L4 18.59l7.72-7.72 1.47 1.35L5.41 20z\"/>\n",
              "  </svg>\n",
              "      </button>\n",
              "      \n",
              "  <style>\n",
              "    .colab-df-container {\n",
              "      display:flex;\n",
              "      flex-wrap:wrap;\n",
              "      gap: 12px;\n",
              "    }\n",
              "\n",
              "    .colab-df-convert {\n",
              "      background-color: #E8F0FE;\n",
              "      border: none;\n",
              "      border-radius: 50%;\n",
              "      cursor: pointer;\n",
              "      display: none;\n",
              "      fill: #1967D2;\n",
              "      height: 32px;\n",
              "      padding: 0 0 0 0;\n",
              "      width: 32px;\n",
              "    }\n",
              "\n",
              "    .colab-df-convert:hover {\n",
              "      background-color: #E2EBFA;\n",
              "      box-shadow: 0px 1px 2px rgba(60, 64, 67, 0.3), 0px 1px 3px 1px rgba(60, 64, 67, 0.15);\n",
              "      fill: #174EA6;\n",
              "    }\n",
              "\n",
              "    [theme=dark] .colab-df-convert {\n",
              "      background-color: #3B4455;\n",
              "      fill: #D2E3FC;\n",
              "    }\n",
              "\n",
              "    [theme=dark] .colab-df-convert:hover {\n",
              "      background-color: #434B5C;\n",
              "      box-shadow: 0px 1px 3px 1px rgba(0, 0, 0, 0.15);\n",
              "      filter: drop-shadow(0px 1px 2px rgba(0, 0, 0, 0.3));\n",
              "      fill: #FFFFFF;\n",
              "    }\n",
              "  </style>\n",
              "\n",
              "      <script>\n",
              "        const buttonEl =\n",
              "          document.querySelector('#df-80a39fbf-a88d-482a-bb42-3a4efcb34e7d button.colab-df-convert');\n",
              "        buttonEl.style.display =\n",
              "          google.colab.kernel.accessAllowed ? 'block' : 'none';\n",
              "\n",
              "        async function convertToInteractive(key) {\n",
              "          const element = document.querySelector('#df-80a39fbf-a88d-482a-bb42-3a4efcb34e7d');\n",
              "          const dataTable =\n",
              "            await google.colab.kernel.invokeFunction('convertToInteractive',\n",
              "                                                     [key], {});\n",
              "          if (!dataTable) return;\n",
              "\n",
              "          const docLinkHtml = 'Like what you see? Visit the ' +\n",
              "            '<a target=\"_blank\" href=https://colab.research.google.com/notebooks/data_table.ipynb>data table notebook</a>'\n",
              "            + ' to learn more about interactive tables.';\n",
              "          element.innerHTML = '';\n",
              "          dataTable['output_type'] = 'display_data';\n",
              "          await google.colab.output.renderOutput(dataTable, element);\n",
              "          const docLink = document.createElement('div');\n",
              "          docLink.innerHTML = docLinkHtml;\n",
              "          element.appendChild(docLink);\n",
              "        }\n",
              "      </script>\n",
              "    </div>\n",
              "  </div>\n",
              "  "
            ]
          },
          "metadata": {},
          "execution_count": 20
        }
      ]
    },
    {
      "cell_type": "code",
      "metadata": {
        "id": "njqKoliyyGbb"
      },
      "source": [
        "cat_cols = ['store','supplier_id','product_id','category',]"
      ],
      "execution_count": 21,
      "outputs": []
    },
    {
      "cell_type": "code",
      "metadata": {
        "id": "6D1tNQ_9yJHm"
      },
      "source": [
        "df[cat_cols] = df[cat_cols].astype('category')"
      ],
      "execution_count": 22,
      "outputs": []
    },
    {
      "cell_type": "code",
      "metadata": {
        "id": "Vrwiu3FWyVHp"
      },
      "source": [
        "sample1_df = df.copy()"
      ],
      "execution_count": 23,
      "outputs": []
    },
    {
      "cell_type": "code",
      "metadata": {
        "id": "huTq2_KayWbd"
      },
      "source": [
        "sample1_df['on_hand_quantity'] = sample1_df['on_hand_quantity'].apply(lambda x: 0 if x < 0 else x)"
      ],
      "execution_count": 24,
      "outputs": []
    },
    {
      "cell_type": "code",
      "metadata": {
        "id": "t7BTUIvvycP1"
      },
      "source": [
        "# Taking 4k records (2000 each from store )for test data \n",
        "sample1_s1_test = sample1_df.loc[sample1_df[\"store\"] == 's1'].iloc[-2000:,]\n",
        "sample1_s2_test = sample1_df.loc[sample1_df[\"store\"] == 's2'].iloc[-2000:,]"
      ],
      "execution_count": 25,
      "outputs": []
    },
    {
      "cell_type": "code",
      "metadata": {
        "id": "Gzfha2Fcydyw"
      },
      "source": [
        "sample_test = pd.concat([sample1_s1_test,sample1_s2_test])"
      ],
      "execution_count": 28,
      "outputs": []
    },
    {
      "cell_type": "code",
      "metadata": {
        "id": "OFt5ibEByg7f"
      },
      "source": [
        "sample_train = sample1_df[ ~sample1_df.isin(sample_test)].dropna()"
      ],
      "execution_count": 31,
      "outputs": []
    },
    {
      "cell_type": "code",
      "metadata": {
        "id": "sr3p6KKSyiSS"
      },
      "source": [
        "sample_x_train = sample_train.drop(['actual_order_quantity'],axis = 1)\n",
        "sample_y_train = sample_train['actual_order_quantity']\n",
        "sample_x_test = sample_test.drop(['actual_order_quantity'],axis = 1)\n",
        "sample_y_test = sample_test['actual_order_quantity']\n"
      ],
      "execution_count": 32,
      "outputs": []
    },
    {
      "cell_type": "code",
      "metadata": {
        "id": "dVXihXjCym0r",
        "colab": {
          "base_uri": "https://localhost:8080/"
        },
        "outputId": "14dd30b6-7dc7-4f01-9388-ad33f65b642e"
      },
      "source": [
        "print(sample_x_train.shape)\n",
        "print(sample_y_train.shape)\n",
        "print(sample_x_test.shape)\n",
        "print(sample_y_test.shape)\n"
      ],
      "execution_count": 33,
      "outputs": [
        {
          "output_type": "stream",
          "name": "stdout",
          "text": [
            "(15668, 19)\n",
            "(15668,)\n",
            "(4000, 19)\n",
            "(4000,)\n"
          ]
        }
      ]
    },
    {
      "cell_type": "code",
      "metadata": {
        "id": "KtQMS2XHyuEf"
      },
      "source": [
        "num_cols = list(set(df.columns.tolist()) - set(cat_cols))\n",
        "input_num_cols = [x for x in num_cols if x!= \"actual_order_quantity\"]"
      ],
      "execution_count": 34,
      "outputs": []
    },
    {
      "cell_type": "code",
      "source": [
        "# Input feature for model\n",
        "input_num_cols"
      ],
      "metadata": {
        "colab": {
          "base_uri": "https://localhost:8080/"
        },
        "id": "NLbof5Mf_LzI",
        "outputId": "85f69361-bf55-4380-de5f-2287c59ca85e"
      },
      "execution_count": 39,
      "outputs": [
        {
          "output_type": "execute_result",
          "data": {
            "text/plain": [
              "['suggested_order_quantity',\n",
              " 'retail_price',\n",
              " 'order_date_day',\n",
              " 'forecast_period',\n",
              " 'order_date_year',\n",
              " 'Minimum_Order_Quantity',\n",
              " 'Ao_Forecast_Quantity',\n",
              " 'replenishment_unit_cost',\n",
              " 'on_order_quantity',\n",
              " 'lead_time',\n",
              " 'Maximum_Order_Quantity',\n",
              " 'on_hand_quantity',\n",
              " 'product_case_pack',\n",
              " 'order_date_month',\n",
              " 'order_date_day_of_week']"
            ]
          },
          "metadata": {},
          "execution_count": 39
        }
      ]
    },
    {
      "cell_type": "code",
      "metadata": {
        "id": "0qXfjkUt11SS"
      },
      "source": [
        "from sklearn.preprocessing import StandardScaler"
      ],
      "execution_count": 40,
      "outputs": []
    },
    {
      "cell_type": "code",
      "metadata": {
        "id": "eMbsNvUNyuMW"
      },
      "source": [
        "#Standarsing and encoding\n",
        "scaler2 = StandardScaler()\n",
        "sample_x_train[input_num_cols]  = scaler2.fit_transform(sample_x_train[input_num_cols])\n",
        "sample_x_test[input_num_cols]  = scaler2.transform(sample_x_test[input_num_cols])"
      ],
      "execution_count": 41,
      "outputs": []
    },
    {
      "cell_type": "code",
      "metadata": {
        "id": "HaS6w5uo0CTW",
        "colab": {
          "base_uri": "https://localhost:8080/"
        },
        "outputId": "ae203b42-127f-4981-b1ac-59dee53db2a2"
      },
      "source": [
        "!pip install category_encoders"
      ],
      "execution_count": 42,
      "outputs": [
        {
          "output_type": "stream",
          "name": "stdout",
          "text": [
            "Collecting category_encoders\n",
            "  Downloading category_encoders-2.4.0-py2.py3-none-any.whl (86 kB)\n",
            "\u001b[?25l\r\u001b[K     |███▉                            | 10 kB 22.8 MB/s eta 0:00:01\r\u001b[K     |███████▋                        | 20 kB 26.7 MB/s eta 0:00:01\r\u001b[K     |███████████▍                    | 30 kB 30.6 MB/s eta 0:00:01\r\u001b[K     |███████████████▏                | 40 kB 25.1 MB/s eta 0:00:01\r\u001b[K     |███████████████████             | 51 kB 19.9 MB/s eta 0:00:01\r\u001b[K     |██████████████████████▊         | 61 kB 22.3 MB/s eta 0:00:01\r\u001b[K     |██████████████████████████▌     | 71 kB 21.8 MB/s eta 0:00:01\r\u001b[K     |██████████████████████████████▎ | 81 kB 21.9 MB/s eta 0:00:01\r\u001b[K     |████████████████████████████████| 86 kB 4.7 MB/s \n",
            "\u001b[?25hRequirement already satisfied: patsy>=0.5.1 in /usr/local/lib/python3.7/dist-packages (from category_encoders) (0.5.2)\n",
            "Requirement already satisfied: statsmodels>=0.9.0 in /usr/local/lib/python3.7/dist-packages (from category_encoders) (0.10.2)\n",
            "Requirement already satisfied: pandas>=0.21.1 in /usr/local/lib/python3.7/dist-packages (from category_encoders) (1.3.5)\n",
            "Requirement already satisfied: numpy>=1.14.0 in /usr/local/lib/python3.7/dist-packages (from category_encoders) (1.21.5)\n",
            "Requirement already satisfied: scikit-learn>=0.20.0 in /usr/local/lib/python3.7/dist-packages (from category_encoders) (1.0.2)\n",
            "Requirement already satisfied: scipy>=1.0.0 in /usr/local/lib/python3.7/dist-packages (from category_encoders) (1.4.1)\n",
            "Requirement already satisfied: python-dateutil>=2.7.3 in /usr/local/lib/python3.7/dist-packages (from pandas>=0.21.1->category_encoders) (2.8.2)\n",
            "Requirement already satisfied: pytz>=2017.3 in /usr/local/lib/python3.7/dist-packages (from pandas>=0.21.1->category_encoders) (2018.9)\n",
            "Requirement already satisfied: six in /usr/local/lib/python3.7/dist-packages (from patsy>=0.5.1->category_encoders) (1.15.0)\n",
            "Requirement already satisfied: threadpoolctl>=2.0.0 in /usr/local/lib/python3.7/dist-packages (from scikit-learn>=0.20.0->category_encoders) (3.1.0)\n",
            "Requirement already satisfied: joblib>=0.11 in /usr/local/lib/python3.7/dist-packages (from scikit-learn>=0.20.0->category_encoders) (1.1.0)\n",
            "Installing collected packages: category-encoders\n",
            "Successfully installed category-encoders-2.4.0\n"
          ]
        }
      ]
    },
    {
      "cell_type": "code",
      "metadata": {
        "id": "1R3qYSzs0I8r",
        "colab": {
          "base_uri": "https://localhost:8080/"
        },
        "outputId": "3154b7df-eaf2-4a07-852f-91953e183220"
      },
      "source": [
        "import category_encoders as ce"
      ],
      "execution_count": 43,
      "outputs": [
        {
          "output_type": "stream",
          "name": "stderr",
          "text": [
            "/usr/local/lib/python3.7/dist-packages/statsmodels/tools/_testing.py:19: FutureWarning: pandas.util.testing is deprecated. Use the functions in the public API at pandas.testing instead.\n",
            "  import pandas.util.testing as tm\n"
          ]
        }
      ]
    },
    {
      "cell_type": "code",
      "metadata": {
        "id": "GLOzfqMh0gW7"
      },
      "source": [
        "# Getting categorical column to perform encoding\n",
        "cat_cols_for_encoding = [x for x in cat_cols if x != \"store\"]"
      ],
      "execution_count": 46,
      "outputs": []
    },
    {
      "cell_type": "code",
      "metadata": {
        "id": "hKFqnosY0-Fr"
      },
      "source": [
        "# as there are only two levels in store not using binary encoder\n",
        "sample_x_train[\"store\"] = sample_x_train[\"store\"].map({'s1':0 ,'s2':1})\n",
        "sample_x_test[\"store\"] = sample_x_test[\"store\"].map({'s1':0 ,'s2':1})\n"
      ],
      "execution_count": 47,
      "outputs": []
    },
    {
      "cell_type": "code",
      "metadata": {
        "id": "m0L9tGav0LsA"
      },
      "source": [
        "# perform binary encoding on categorical column and transform it\n",
        "binaryEncoder = ce.BinaryEncoder(cols= cat_cols_for_encoding,return_df=True)\n",
        "sample_x_train_cat = binaryEncoder.fit_transform(sample_x_train[cat_cols_for_encoding])"
      ],
      "execution_count": 48,
      "outputs": []
    },
    {
      "cell_type": "code",
      "source": [
        "sample_x_train_cat.head()"
      ],
      "metadata": {
        "colab": {
          "base_uri": "https://localhost:8080/",
          "height": 270
        },
        "id": "ti5uuF9FAMqx",
        "outputId": "0085285f-07e7-44de-d055-6fff97b0d88a"
      },
      "execution_count": 50,
      "outputs": [
        {
          "output_type": "execute_result",
          "data": {
            "text/plain": [
              "   supplier_id_0  supplier_id_1  supplier_id_2  product_id_0  product_id_1  \\\n",
              "0              0              0              1             0             0   \n",
              "1              0              0              1             0             0   \n",
              "2              0              0              1             0             0   \n",
              "3              0              0              1             0             0   \n",
              "4              0              0              1             0             0   \n",
              "\n",
              "   product_id_2  product_id_3  product_id_4  product_id_5  product_id_6  \\\n",
              "0             0             0             0             0             0   \n",
              "1             0             0             0             0             0   \n",
              "2             0             0             0             0             0   \n",
              "3             0             0             0             0             0   \n",
              "4             0             0             0             0             0   \n",
              "\n",
              "   product_id_7  product_id_8  product_id_9  category_0  category_1  \\\n",
              "0             0             0             1           0           0   \n",
              "1             0             1             0           0           0   \n",
              "2             0             1             1           0           0   \n",
              "3             1             0             0           0           0   \n",
              "4             1             0             1           0           0   \n",
              "\n",
              "   category_2  category_3  category_4  category_5  category_6  \n",
              "0           0           0           0           0           1  \n",
              "1           0           0           0           1           0  \n",
              "2           0           0           0           1           0  \n",
              "3           0           0           0           1           1  \n",
              "4           0           0           1           0           0  "
            ],
            "text/html": [
              "\n",
              "  <div id=\"df-b88ace2f-b1d6-40de-b974-f6c3f2c8e7cb\">\n",
              "    <div class=\"colab-df-container\">\n",
              "      <div>\n",
              "<style scoped>\n",
              "    .dataframe tbody tr th:only-of-type {\n",
              "        vertical-align: middle;\n",
              "    }\n",
              "\n",
              "    .dataframe tbody tr th {\n",
              "        vertical-align: top;\n",
              "    }\n",
              "\n",
              "    .dataframe thead th {\n",
              "        text-align: right;\n",
              "    }\n",
              "</style>\n",
              "<table border=\"1\" class=\"dataframe\">\n",
              "  <thead>\n",
              "    <tr style=\"text-align: right;\">\n",
              "      <th></th>\n",
              "      <th>supplier_id_0</th>\n",
              "      <th>supplier_id_1</th>\n",
              "      <th>supplier_id_2</th>\n",
              "      <th>product_id_0</th>\n",
              "      <th>product_id_1</th>\n",
              "      <th>product_id_2</th>\n",
              "      <th>product_id_3</th>\n",
              "      <th>product_id_4</th>\n",
              "      <th>product_id_5</th>\n",
              "      <th>product_id_6</th>\n",
              "      <th>product_id_7</th>\n",
              "      <th>product_id_8</th>\n",
              "      <th>product_id_9</th>\n",
              "      <th>category_0</th>\n",
              "      <th>category_1</th>\n",
              "      <th>category_2</th>\n",
              "      <th>category_3</th>\n",
              "      <th>category_4</th>\n",
              "      <th>category_5</th>\n",
              "      <th>category_6</th>\n",
              "    </tr>\n",
              "  </thead>\n",
              "  <tbody>\n",
              "    <tr>\n",
              "      <th>0</th>\n",
              "      <td>0</td>\n",
              "      <td>0</td>\n",
              "      <td>1</td>\n",
              "      <td>0</td>\n",
              "      <td>0</td>\n",
              "      <td>0</td>\n",
              "      <td>0</td>\n",
              "      <td>0</td>\n",
              "      <td>0</td>\n",
              "      <td>0</td>\n",
              "      <td>0</td>\n",
              "      <td>0</td>\n",
              "      <td>1</td>\n",
              "      <td>0</td>\n",
              "      <td>0</td>\n",
              "      <td>0</td>\n",
              "      <td>0</td>\n",
              "      <td>0</td>\n",
              "      <td>0</td>\n",
              "      <td>1</td>\n",
              "    </tr>\n",
              "    <tr>\n",
              "      <th>1</th>\n",
              "      <td>0</td>\n",
              "      <td>0</td>\n",
              "      <td>1</td>\n",
              "      <td>0</td>\n",
              "      <td>0</td>\n",
              "      <td>0</td>\n",
              "      <td>0</td>\n",
              "      <td>0</td>\n",
              "      <td>0</td>\n",
              "      <td>0</td>\n",
              "      <td>0</td>\n",
              "      <td>1</td>\n",
              "      <td>0</td>\n",
              "      <td>0</td>\n",
              "      <td>0</td>\n",
              "      <td>0</td>\n",
              "      <td>0</td>\n",
              "      <td>0</td>\n",
              "      <td>1</td>\n",
              "      <td>0</td>\n",
              "    </tr>\n",
              "    <tr>\n",
              "      <th>2</th>\n",
              "      <td>0</td>\n",
              "      <td>0</td>\n",
              "      <td>1</td>\n",
              "      <td>0</td>\n",
              "      <td>0</td>\n",
              "      <td>0</td>\n",
              "      <td>0</td>\n",
              "      <td>0</td>\n",
              "      <td>0</td>\n",
              "      <td>0</td>\n",
              "      <td>0</td>\n",
              "      <td>1</td>\n",
              "      <td>1</td>\n",
              "      <td>0</td>\n",
              "      <td>0</td>\n",
              "      <td>0</td>\n",
              "      <td>0</td>\n",
              "      <td>0</td>\n",
              "      <td>1</td>\n",
              "      <td>0</td>\n",
              "    </tr>\n",
              "    <tr>\n",
              "      <th>3</th>\n",
              "      <td>0</td>\n",
              "      <td>0</td>\n",
              "      <td>1</td>\n",
              "      <td>0</td>\n",
              "      <td>0</td>\n",
              "      <td>0</td>\n",
              "      <td>0</td>\n",
              "      <td>0</td>\n",
              "      <td>0</td>\n",
              "      <td>0</td>\n",
              "      <td>1</td>\n",
              "      <td>0</td>\n",
              "      <td>0</td>\n",
              "      <td>0</td>\n",
              "      <td>0</td>\n",
              "      <td>0</td>\n",
              "      <td>0</td>\n",
              "      <td>0</td>\n",
              "      <td>1</td>\n",
              "      <td>1</td>\n",
              "    </tr>\n",
              "    <tr>\n",
              "      <th>4</th>\n",
              "      <td>0</td>\n",
              "      <td>0</td>\n",
              "      <td>1</td>\n",
              "      <td>0</td>\n",
              "      <td>0</td>\n",
              "      <td>0</td>\n",
              "      <td>0</td>\n",
              "      <td>0</td>\n",
              "      <td>0</td>\n",
              "      <td>0</td>\n",
              "      <td>1</td>\n",
              "      <td>0</td>\n",
              "      <td>1</td>\n",
              "      <td>0</td>\n",
              "      <td>0</td>\n",
              "      <td>0</td>\n",
              "      <td>0</td>\n",
              "      <td>1</td>\n",
              "      <td>0</td>\n",
              "      <td>0</td>\n",
              "    </tr>\n",
              "  </tbody>\n",
              "</table>\n",
              "</div>\n",
              "      <button class=\"colab-df-convert\" onclick=\"convertToInteractive('df-b88ace2f-b1d6-40de-b974-f6c3f2c8e7cb')\"\n",
              "              title=\"Convert this dataframe to an interactive table.\"\n",
              "              style=\"display:none;\">\n",
              "        \n",
              "  <svg xmlns=\"http://www.w3.org/2000/svg\" height=\"24px\"viewBox=\"0 0 24 24\"\n",
              "       width=\"24px\">\n",
              "    <path d=\"M0 0h24v24H0V0z\" fill=\"none\"/>\n",
              "    <path d=\"M18.56 5.44l.94 2.06.94-2.06 2.06-.94-2.06-.94-.94-2.06-.94 2.06-2.06.94zm-11 1L8.5 8.5l.94-2.06 2.06-.94-2.06-.94L8.5 2.5l-.94 2.06-2.06.94zm10 10l.94 2.06.94-2.06 2.06-.94-2.06-.94-.94-2.06-.94 2.06-2.06.94z\"/><path d=\"M17.41 7.96l-1.37-1.37c-.4-.4-.92-.59-1.43-.59-.52 0-1.04.2-1.43.59L10.3 9.45l-7.72 7.72c-.78.78-.78 2.05 0 2.83L4 21.41c.39.39.9.59 1.41.59.51 0 1.02-.2 1.41-.59l7.78-7.78 2.81-2.81c.8-.78.8-2.07 0-2.86zM5.41 20L4 18.59l7.72-7.72 1.47 1.35L5.41 20z\"/>\n",
              "  </svg>\n",
              "      </button>\n",
              "      \n",
              "  <style>\n",
              "    .colab-df-container {\n",
              "      display:flex;\n",
              "      flex-wrap:wrap;\n",
              "      gap: 12px;\n",
              "    }\n",
              "\n",
              "    .colab-df-convert {\n",
              "      background-color: #E8F0FE;\n",
              "      border: none;\n",
              "      border-radius: 50%;\n",
              "      cursor: pointer;\n",
              "      display: none;\n",
              "      fill: #1967D2;\n",
              "      height: 32px;\n",
              "      padding: 0 0 0 0;\n",
              "      width: 32px;\n",
              "    }\n",
              "\n",
              "    .colab-df-convert:hover {\n",
              "      background-color: #E2EBFA;\n",
              "      box-shadow: 0px 1px 2px rgba(60, 64, 67, 0.3), 0px 1px 3px 1px rgba(60, 64, 67, 0.15);\n",
              "      fill: #174EA6;\n",
              "    }\n",
              "\n",
              "    [theme=dark] .colab-df-convert {\n",
              "      background-color: #3B4455;\n",
              "      fill: #D2E3FC;\n",
              "    }\n",
              "\n",
              "    [theme=dark] .colab-df-convert:hover {\n",
              "      background-color: #434B5C;\n",
              "      box-shadow: 0px 1px 3px 1px rgba(0, 0, 0, 0.15);\n",
              "      filter: drop-shadow(0px 1px 2px rgba(0, 0, 0, 0.3));\n",
              "      fill: #FFFFFF;\n",
              "    }\n",
              "  </style>\n",
              "\n",
              "      <script>\n",
              "        const buttonEl =\n",
              "          document.querySelector('#df-b88ace2f-b1d6-40de-b974-f6c3f2c8e7cb button.colab-df-convert');\n",
              "        buttonEl.style.display =\n",
              "          google.colab.kernel.accessAllowed ? 'block' : 'none';\n",
              "\n",
              "        async function convertToInteractive(key) {\n",
              "          const element = document.querySelector('#df-b88ace2f-b1d6-40de-b974-f6c3f2c8e7cb');\n",
              "          const dataTable =\n",
              "            await google.colab.kernel.invokeFunction('convertToInteractive',\n",
              "                                                     [key], {});\n",
              "          if (!dataTable) return;\n",
              "\n",
              "          const docLinkHtml = 'Like what you see? Visit the ' +\n",
              "            '<a target=\"_blank\" href=https://colab.research.google.com/notebooks/data_table.ipynb>data table notebook</a>'\n",
              "            + ' to learn more about interactive tables.';\n",
              "          element.innerHTML = '';\n",
              "          dataTable['output_type'] = 'display_data';\n",
              "          await google.colab.output.renderOutput(dataTable, element);\n",
              "          const docLink = document.createElement('div');\n",
              "          docLink.innerHTML = docLinkHtml;\n",
              "          element.appendChild(docLink);\n",
              "        }\n",
              "      </script>\n",
              "    </div>\n",
              "  </div>\n",
              "  "
            ]
          },
          "metadata": {},
          "execution_count": 50
        }
      ]
    },
    {
      "cell_type": "code",
      "metadata": {
        "id": "rtM3dDCR0O8g"
      },
      "source": [
        "sample_x_test_cat = binaryEncoder.transform(sample_x_test[cat_cols_for_encoding])"
      ],
      "execution_count": 51,
      "outputs": []
    },
    {
      "cell_type": "code",
      "source": [
        "sample_x_test_cat.head()"
      ],
      "metadata": {
        "colab": {
          "base_uri": "https://localhost:8080/",
          "height": 270
        },
        "id": "K5ic_A52AZF-",
        "outputId": "648a7c44-2f36-43f4-8bd7-555cfd8a5ad9"
      },
      "execution_count": 52,
      "outputs": [
        {
          "output_type": "execute_result",
          "data": {
            "text/plain": [
              "      supplier_id_0  supplier_id_1  supplier_id_2  product_id_0  product_id_1  \\\n",
              "7665              1              0              0             0             1   \n",
              "7666              1              1              0             0             1   \n",
              "7667              1              1              0             0             1   \n",
              "7668              0              0              1             0             0   \n",
              "7669              0              0              1             0             0   \n",
              "\n",
              "      product_id_2  product_id_3  product_id_4  product_id_5  product_id_6  \\\n",
              "7665             0             1             0             0             1   \n",
              "7666             0             1             1             0             1   \n",
              "7667             0             0             1             1             1   \n",
              "7668             0             0             1             0             0   \n",
              "7669             0             0             0             0             1   \n",
              "\n",
              "      product_id_7  product_id_8  product_id_9  category_0  category_1  \\\n",
              "7665             1             0             0           0           1   \n",
              "7666             0             0             1           1           0   \n",
              "7667             1             1             1           1           0   \n",
              "7668             1             1             1           0           0   \n",
              "7669             1             1             1           0           0   \n",
              "\n",
              "      category_2  category_3  category_4  category_5  category_6  \n",
              "7665           1           0           0           1           0  \n",
              "7666           0           0           0           1           0  \n",
              "7667           0           0           1           0           1  \n",
              "7668           0           1           1           1           1  \n",
              "7669           0           1           0           1           1  "
            ],
            "text/html": [
              "\n",
              "  <div id=\"df-a0968a90-97f9-4cbe-87fd-9c71ade90f5e\">\n",
              "    <div class=\"colab-df-container\">\n",
              "      <div>\n",
              "<style scoped>\n",
              "    .dataframe tbody tr th:only-of-type {\n",
              "        vertical-align: middle;\n",
              "    }\n",
              "\n",
              "    .dataframe tbody tr th {\n",
              "        vertical-align: top;\n",
              "    }\n",
              "\n",
              "    .dataframe thead th {\n",
              "        text-align: right;\n",
              "    }\n",
              "</style>\n",
              "<table border=\"1\" class=\"dataframe\">\n",
              "  <thead>\n",
              "    <tr style=\"text-align: right;\">\n",
              "      <th></th>\n",
              "      <th>supplier_id_0</th>\n",
              "      <th>supplier_id_1</th>\n",
              "      <th>supplier_id_2</th>\n",
              "      <th>product_id_0</th>\n",
              "      <th>product_id_1</th>\n",
              "      <th>product_id_2</th>\n",
              "      <th>product_id_3</th>\n",
              "      <th>product_id_4</th>\n",
              "      <th>product_id_5</th>\n",
              "      <th>product_id_6</th>\n",
              "      <th>product_id_7</th>\n",
              "      <th>product_id_8</th>\n",
              "      <th>product_id_9</th>\n",
              "      <th>category_0</th>\n",
              "      <th>category_1</th>\n",
              "      <th>category_2</th>\n",
              "      <th>category_3</th>\n",
              "      <th>category_4</th>\n",
              "      <th>category_5</th>\n",
              "      <th>category_6</th>\n",
              "    </tr>\n",
              "  </thead>\n",
              "  <tbody>\n",
              "    <tr>\n",
              "      <th>7665</th>\n",
              "      <td>1</td>\n",
              "      <td>0</td>\n",
              "      <td>0</td>\n",
              "      <td>0</td>\n",
              "      <td>1</td>\n",
              "      <td>0</td>\n",
              "      <td>1</td>\n",
              "      <td>0</td>\n",
              "      <td>0</td>\n",
              "      <td>1</td>\n",
              "      <td>1</td>\n",
              "      <td>0</td>\n",
              "      <td>0</td>\n",
              "      <td>0</td>\n",
              "      <td>1</td>\n",
              "      <td>1</td>\n",
              "      <td>0</td>\n",
              "      <td>0</td>\n",
              "      <td>1</td>\n",
              "      <td>0</td>\n",
              "    </tr>\n",
              "    <tr>\n",
              "      <th>7666</th>\n",
              "      <td>1</td>\n",
              "      <td>1</td>\n",
              "      <td>0</td>\n",
              "      <td>0</td>\n",
              "      <td>1</td>\n",
              "      <td>0</td>\n",
              "      <td>1</td>\n",
              "      <td>1</td>\n",
              "      <td>0</td>\n",
              "      <td>1</td>\n",
              "      <td>0</td>\n",
              "      <td>0</td>\n",
              "      <td>1</td>\n",
              "      <td>1</td>\n",
              "      <td>0</td>\n",
              "      <td>0</td>\n",
              "      <td>0</td>\n",
              "      <td>0</td>\n",
              "      <td>1</td>\n",
              "      <td>0</td>\n",
              "    </tr>\n",
              "    <tr>\n",
              "      <th>7667</th>\n",
              "      <td>1</td>\n",
              "      <td>1</td>\n",
              "      <td>0</td>\n",
              "      <td>0</td>\n",
              "      <td>1</td>\n",
              "      <td>0</td>\n",
              "      <td>0</td>\n",
              "      <td>1</td>\n",
              "      <td>1</td>\n",
              "      <td>1</td>\n",
              "      <td>1</td>\n",
              "      <td>1</td>\n",
              "      <td>1</td>\n",
              "      <td>1</td>\n",
              "      <td>0</td>\n",
              "      <td>0</td>\n",
              "      <td>0</td>\n",
              "      <td>1</td>\n",
              "      <td>0</td>\n",
              "      <td>1</td>\n",
              "    </tr>\n",
              "    <tr>\n",
              "      <th>7668</th>\n",
              "      <td>0</td>\n",
              "      <td>0</td>\n",
              "      <td>1</td>\n",
              "      <td>0</td>\n",
              "      <td>0</td>\n",
              "      <td>0</td>\n",
              "      <td>0</td>\n",
              "      <td>1</td>\n",
              "      <td>0</td>\n",
              "      <td>0</td>\n",
              "      <td>1</td>\n",
              "      <td>1</td>\n",
              "      <td>1</td>\n",
              "      <td>0</td>\n",
              "      <td>0</td>\n",
              "      <td>0</td>\n",
              "      <td>1</td>\n",
              "      <td>1</td>\n",
              "      <td>1</td>\n",
              "      <td>1</td>\n",
              "    </tr>\n",
              "    <tr>\n",
              "      <th>7669</th>\n",
              "      <td>0</td>\n",
              "      <td>0</td>\n",
              "      <td>1</td>\n",
              "      <td>0</td>\n",
              "      <td>0</td>\n",
              "      <td>0</td>\n",
              "      <td>0</td>\n",
              "      <td>0</td>\n",
              "      <td>0</td>\n",
              "      <td>1</td>\n",
              "      <td>1</td>\n",
              "      <td>1</td>\n",
              "      <td>1</td>\n",
              "      <td>0</td>\n",
              "      <td>0</td>\n",
              "      <td>0</td>\n",
              "      <td>1</td>\n",
              "      <td>0</td>\n",
              "      <td>1</td>\n",
              "      <td>1</td>\n",
              "    </tr>\n",
              "  </tbody>\n",
              "</table>\n",
              "</div>\n",
              "      <button class=\"colab-df-convert\" onclick=\"convertToInteractive('df-a0968a90-97f9-4cbe-87fd-9c71ade90f5e')\"\n",
              "              title=\"Convert this dataframe to an interactive table.\"\n",
              "              style=\"display:none;\">\n",
              "        \n",
              "  <svg xmlns=\"http://www.w3.org/2000/svg\" height=\"24px\"viewBox=\"0 0 24 24\"\n",
              "       width=\"24px\">\n",
              "    <path d=\"M0 0h24v24H0V0z\" fill=\"none\"/>\n",
              "    <path d=\"M18.56 5.44l.94 2.06.94-2.06 2.06-.94-2.06-.94-.94-2.06-.94 2.06-2.06.94zm-11 1L8.5 8.5l.94-2.06 2.06-.94-2.06-.94L8.5 2.5l-.94 2.06-2.06.94zm10 10l.94 2.06.94-2.06 2.06-.94-2.06-.94-.94-2.06-.94 2.06-2.06.94z\"/><path d=\"M17.41 7.96l-1.37-1.37c-.4-.4-.92-.59-1.43-.59-.52 0-1.04.2-1.43.59L10.3 9.45l-7.72 7.72c-.78.78-.78 2.05 0 2.83L4 21.41c.39.39.9.59 1.41.59.51 0 1.02-.2 1.41-.59l7.78-7.78 2.81-2.81c.8-.78.8-2.07 0-2.86zM5.41 20L4 18.59l7.72-7.72 1.47 1.35L5.41 20z\"/>\n",
              "  </svg>\n",
              "      </button>\n",
              "      \n",
              "  <style>\n",
              "    .colab-df-container {\n",
              "      display:flex;\n",
              "      flex-wrap:wrap;\n",
              "      gap: 12px;\n",
              "    }\n",
              "\n",
              "    .colab-df-convert {\n",
              "      background-color: #E8F0FE;\n",
              "      border: none;\n",
              "      border-radius: 50%;\n",
              "      cursor: pointer;\n",
              "      display: none;\n",
              "      fill: #1967D2;\n",
              "      height: 32px;\n",
              "      padding: 0 0 0 0;\n",
              "      width: 32px;\n",
              "    }\n",
              "\n",
              "    .colab-df-convert:hover {\n",
              "      background-color: #E2EBFA;\n",
              "      box-shadow: 0px 1px 2px rgba(60, 64, 67, 0.3), 0px 1px 3px 1px rgba(60, 64, 67, 0.15);\n",
              "      fill: #174EA6;\n",
              "    }\n",
              "\n",
              "    [theme=dark] .colab-df-convert {\n",
              "      background-color: #3B4455;\n",
              "      fill: #D2E3FC;\n",
              "    }\n",
              "\n",
              "    [theme=dark] .colab-df-convert:hover {\n",
              "      background-color: #434B5C;\n",
              "      box-shadow: 0px 1px 3px 1px rgba(0, 0, 0, 0.15);\n",
              "      filter: drop-shadow(0px 1px 2px rgba(0, 0, 0, 0.3));\n",
              "      fill: #FFFFFF;\n",
              "    }\n",
              "  </style>\n",
              "\n",
              "      <script>\n",
              "        const buttonEl =\n",
              "          document.querySelector('#df-a0968a90-97f9-4cbe-87fd-9c71ade90f5e button.colab-df-convert');\n",
              "        buttonEl.style.display =\n",
              "          google.colab.kernel.accessAllowed ? 'block' : 'none';\n",
              "\n",
              "        async function convertToInteractive(key) {\n",
              "          const element = document.querySelector('#df-a0968a90-97f9-4cbe-87fd-9c71ade90f5e');\n",
              "          const dataTable =\n",
              "            await google.colab.kernel.invokeFunction('convertToInteractive',\n",
              "                                                     [key], {});\n",
              "          if (!dataTable) return;\n",
              "\n",
              "          const docLinkHtml = 'Like what you see? Visit the ' +\n",
              "            '<a target=\"_blank\" href=https://colab.research.google.com/notebooks/data_table.ipynb>data table notebook</a>'\n",
              "            + ' to learn more about interactive tables.';\n",
              "          element.innerHTML = '';\n",
              "          dataTable['output_type'] = 'display_data';\n",
              "          await google.colab.output.renderOutput(dataTable, element);\n",
              "          const docLink = document.createElement('div');\n",
              "          docLink.innerHTML = docLinkHtml;\n",
              "          element.appendChild(docLink);\n",
              "        }\n",
              "      </script>\n",
              "    </div>\n",
              "  </div>\n",
              "  "
            ]
          },
          "metadata": {},
          "execution_count": 52
        }
      ]
    },
    {
      "cell_type": "code",
      "metadata": {
        "id": "_TsmyDGPz9fk"
      },
      "source": [
        "sample_x_train.drop(cat_cols_for_encoding,axis = 1,inplace=True)\n",
        "sample_x_test.drop(cat_cols_for_encoding,axis = 1,inplace=True)\n",
        "sample_x_train_final = sample_x_train.join(sample_x_train_cat)\n",
        "sample_x_test_final = sample_x_test.join(sample_x_test_cat)"
      ],
      "execution_count": 53,
      "outputs": []
    },
    {
      "cell_type": "code",
      "metadata": {
        "id": "pEZsnBon0Wj4"
      },
      "source": [
        "sample_x_train_final['store'] = pd.to_numeric( sample_x_train_final['store'])\n",
        "sample_x_test_final['store'] = pd.to_numeric( sample_x_test_final['store'])"
      ],
      "execution_count": 55,
      "outputs": []
    },
    {
      "cell_type": "markdown",
      "source": [
        "### Training XGBoost model"
      ],
      "metadata": {
        "id": "7ZMgnkW_Imej"
      }
    },
    {
      "cell_type": "code",
      "metadata": {
        "id": "8z_tH-pI1jFu"
      },
      "source": [
        "from sklearn.model_selection import GridSearchCV"
      ],
      "execution_count": 56,
      "outputs": []
    },
    {
      "cell_type": "code",
      "metadata": {
        "id": "00RP1aTLz8F-"
      },
      "source": [
        "\n",
        "import xgboost as xgb\n",
        "xgb1 = xgb.XGBRegressor()\n",
        "parameters = {'nthread':[4], #when use hyperthread, xgboost may become slower\n",
        "              'objective':['reg:linear'],\n",
        "              'learning_rate': [.01,.03, 0.05, .07], #so called `eta` value\n",
        "              'max_depth': [5, 6, 7,10],\n",
        "              'min_child_weight': [4],\n",
        "              'subsample': [0.7],\n",
        "              'colsample_bytree': [0.7],\n",
        "              'n_estimators': [100]}"
      ],
      "execution_count": 57,
      "outputs": []
    },
    {
      "cell_type": "code",
      "metadata": {
        "id": "lXEGGNTA1GX5"
      },
      "source": [
        "# Hyperparameter tuning using GridSearchCV technique\n",
        "xgb_grid = GridSearchCV(xgb1,\n",
        "                        parameters,\n",
        "                        cv = 10,\n",
        "                        n_jobs = -1,\n",
        "                        scoring='neg_root_mean_squared_error')\n"
      ],
      "execution_count": 58,
      "outputs": []
    },
    {
      "cell_type": "code",
      "metadata": {
        "id": "wkCU8VtA1IDZ",
        "colab": {
          "base_uri": "https://localhost:8080/"
        },
        "outputId": "ddae14df-7578-42fa-9844-45abb1f69b17"
      },
      "source": [
        "# fitting model with XGB\n",
        "%%time\n",
        "xgb_grid.fit(sample_x_train_final,sample_y_train)"
      ],
      "execution_count": 59,
      "outputs": [
        {
          "output_type": "stream",
          "name": "stdout",
          "text": [
            "[13:22:00] WARNING: /workspace/src/objective/regression_obj.cu:152: reg:linear is now deprecated in favor of reg:squarederror.\n",
            "CPU times: user 7.99 s, sys: 533 ms, total: 8.52 s\n",
            "Wall time: 6min 59s\n"
          ]
        },
        {
          "output_type": "execute_result",
          "data": {
            "text/plain": [
              "GridSearchCV(cv=10, estimator=XGBRegressor(), n_jobs=-1,\n",
              "             param_grid={'colsample_bytree': [0.7],\n",
              "                         'learning_rate': [0.01, 0.03, 0.05, 0.07],\n",
              "                         'max_depth': [5, 6, 7, 10], 'min_child_weight': [4],\n",
              "                         'n_estimators': [100], 'nthread': [4],\n",
              "                         'objective': ['reg:linear'], 'subsample': [0.7]},\n",
              "             scoring='neg_root_mean_squared_error')"
            ]
          },
          "metadata": {},
          "execution_count": 59
        }
      ]
    },
    {
      "cell_type": "code",
      "metadata": {
        "id": "o7BlYntp1NXJ",
        "colab": {
          "base_uri": "https://localhost:8080/"
        },
        "outputId": "5723f505-6bba-45e9-8e80-df272b82aabd"
      },
      "source": [
        "xgb_grid.best_params_"
      ],
      "execution_count": 60,
      "outputs": [
        {
          "output_type": "execute_result",
          "data": {
            "text/plain": [
              "{'colsample_bytree': 0.7,\n",
              " 'learning_rate': 0.07,\n",
              " 'max_depth': 6,\n",
              " 'min_child_weight': 4,\n",
              " 'n_estimators': 100,\n",
              " 'nthread': 4,\n",
              " 'objective': 'reg:linear',\n",
              " 'subsample': 0.7}"
            ]
          },
          "metadata": {},
          "execution_count": 60
        }
      ]
    },
    {
      "cell_type": "code",
      "metadata": {
        "id": "ERFn8gK01U_c"
      },
      "source": [
        "# Predicting on train and test data\n",
        "y_train_xgb_pred = xgb_grid.best_estimator_.predict(sample_x_train_final)\n",
        "y_test_xgb_pred = xgb_grid.best_estimator_.predict(sample_x_test_final)"
      ],
      "execution_count": 61,
      "outputs": []
    },
    {
      "cell_type": "markdown",
      "source": [
        "### Performance Metrics"
      ],
      "metadata": {
        "id": "28eNAyf3IWmZ"
      }
    },
    {
      "cell_type": "code",
      "metadata": {
        "id": "k6esigAH1e-5"
      },
      "source": [
        "#calculating rmse\n",
        "from sklearn.metrics import mean_squared_error"
      ],
      "execution_count": 62,
      "outputs": []
    },
    {
      "cell_type": "code",
      "metadata": {
        "id": "izMZWAdY1VCu",
        "colab": {
          "base_uri": "https://localhost:8080/"
        },
        "outputId": "2c8f91e4-ea18-4ff5-9f9e-7bd63785598e"
      },
      "source": [
        "# RMSE on train sample\n",
        "mean_squared_error(sample_y_train,y_train_xgb_pred, squared=False)"
      ],
      "execution_count": 71,
      "outputs": [
        {
          "output_type": "execute_result",
          "data": {
            "text/plain": [
              "0.7549871681224014"
            ]
          },
          "metadata": {},
          "execution_count": 71
        }
      ]
    },
    {
      "cell_type": "code",
      "metadata": {
        "id": "n1WED13N1Y97",
        "colab": {
          "base_uri": "https://localhost:8080/"
        },
        "outputId": "26693fa0-cded-48f5-9fe5-2f6832885bf4"
      },
      "source": [
        "# RMSE on test sample\n",
        "mean_squared_error(sample_y_test,y_test_xgb_pred, squared=False)"
      ],
      "execution_count": 72,
      "outputs": [
        {
          "output_type": "execute_result",
          "data": {
            "text/plain": [
              "0.7320606588684848"
            ]
          },
          "metadata": {},
          "execution_count": 72
        }
      ]
    },
    {
      "cell_type": "code",
      "metadata": {
        "id": "B5SvDiV518H-",
        "colab": {
          "base_uri": "https://localhost:8080/"
        },
        "outputId": "13457dd0-45e3-49ba-c003-19f39b7b6866"
      },
      "source": [
        "y_train_xgb_pred.shape"
      ],
      "execution_count": 73,
      "outputs": [
        {
          "output_type": "execute_result",
          "data": {
            "text/plain": [
              "(15668,)"
            ]
          },
          "metadata": {},
          "execution_count": 73
        }
      ]
    },
    {
      "cell_type": "code",
      "metadata": {
        "id": "-aSpBERU7D-n"
      },
      "source": [
        "# getting copy of train data for further use\n",
        "new_df = sample_train.copy()"
      ],
      "execution_count": 74,
      "outputs": []
    },
    {
      "cell_type": "code",
      "metadata": {
        "id": "ZcG-XwrX8A7E",
        "colab": {
          "base_uri": "https://localhost:8080/",
          "height": 270
        },
        "outputId": "f226b8d4-c33b-4469-b5cf-37ab00cf6319"
      },
      "source": [
        "new_df.head()"
      ],
      "execution_count": 75,
      "outputs": [
        {
          "output_type": "execute_result",
          "data": {
            "text/plain": [
              "  store supplier_id product_id category  on_order_quantity  on_hand_quantity  \\\n",
              "0    s1          50      28483     c654                0.0          0.625000   \n",
              "1    s1          50      40917     c896                0.0          0.125000   \n",
              "2    s1          50     136366     c896                0.0          0.833333   \n",
              "3    s1          50     136344     c762                0.0          0.375000   \n",
              "4    s1          50     136078     c672                0.0          0.750000   \n",
              "\n",
              "   product_case_pack  retail_price  replenishment_unit_cost  \\\n",
              "0               16.0          2.60                    18.56   \n",
              "1                8.0          2.95                    11.28   \n",
              "2                6.0          2.50                     4.76   \n",
              "3                8.0          3.95                    15.04   \n",
              "4                4.0          2.80                     4.56   \n",
              "\n",
              "   Ao_Forecast_Quantity  Minimum_Order_Quantity  Maximum_Order_Quantity  \\\n",
              "0                  8.50                     2.0                    48.0   \n",
              "1                  1.95                     2.0                    20.0   \n",
              "2                  0.80                     5.0                    40.0   \n",
              "3                  1.55                     2.0                    20.0   \n",
              "4                  1.15                     2.0                    12.0   \n",
              "\n",
              "   lead_time  suggested_order_quantity  actual_order_quantity  \\\n",
              "0        2.0                       1.0                    1.0   \n",
              "1        2.0                       1.0                    1.0   \n",
              "2        2.0                       1.0                    2.0   \n",
              "3        2.0                       1.0                    1.0   \n",
              "4        2.0                       1.0                    1.0   \n",
              "\n",
              "   order_date_year  order_date_month  order_date_day  order_date_day_of_week  \\\n",
              "0           2017.0               1.0             2.0                     0.0   \n",
              "1           2017.0               1.0             2.0                     0.0   \n",
              "2           2017.0               1.0             2.0                     0.0   \n",
              "3           2017.0               1.0             2.0                     0.0   \n",
              "4           2017.0               1.0             2.0                     0.0   \n",
              "\n",
              "   forecast_period  \n",
              "0              6.0  \n",
              "1              6.0  \n",
              "2              6.0  \n",
              "3              6.0  \n",
              "4              6.0  "
            ],
            "text/html": [
              "\n",
              "  <div id=\"df-eff31db3-a336-47eb-afe7-234f136c6f10\">\n",
              "    <div class=\"colab-df-container\">\n",
              "      <div>\n",
              "<style scoped>\n",
              "    .dataframe tbody tr th:only-of-type {\n",
              "        vertical-align: middle;\n",
              "    }\n",
              "\n",
              "    .dataframe tbody tr th {\n",
              "        vertical-align: top;\n",
              "    }\n",
              "\n",
              "    .dataframe thead th {\n",
              "        text-align: right;\n",
              "    }\n",
              "</style>\n",
              "<table border=\"1\" class=\"dataframe\">\n",
              "  <thead>\n",
              "    <tr style=\"text-align: right;\">\n",
              "      <th></th>\n",
              "      <th>store</th>\n",
              "      <th>supplier_id</th>\n",
              "      <th>product_id</th>\n",
              "      <th>category</th>\n",
              "      <th>on_order_quantity</th>\n",
              "      <th>on_hand_quantity</th>\n",
              "      <th>product_case_pack</th>\n",
              "      <th>retail_price</th>\n",
              "      <th>replenishment_unit_cost</th>\n",
              "      <th>Ao_Forecast_Quantity</th>\n",
              "      <th>Minimum_Order_Quantity</th>\n",
              "      <th>Maximum_Order_Quantity</th>\n",
              "      <th>lead_time</th>\n",
              "      <th>suggested_order_quantity</th>\n",
              "      <th>actual_order_quantity</th>\n",
              "      <th>order_date_year</th>\n",
              "      <th>order_date_month</th>\n",
              "      <th>order_date_day</th>\n",
              "      <th>order_date_day_of_week</th>\n",
              "      <th>forecast_period</th>\n",
              "    </tr>\n",
              "  </thead>\n",
              "  <tbody>\n",
              "    <tr>\n",
              "      <th>0</th>\n",
              "      <td>s1</td>\n",
              "      <td>50</td>\n",
              "      <td>28483</td>\n",
              "      <td>c654</td>\n",
              "      <td>0.0</td>\n",
              "      <td>0.625000</td>\n",
              "      <td>16.0</td>\n",
              "      <td>2.60</td>\n",
              "      <td>18.56</td>\n",
              "      <td>8.50</td>\n",
              "      <td>2.0</td>\n",
              "      <td>48.0</td>\n",
              "      <td>2.0</td>\n",
              "      <td>1.0</td>\n",
              "      <td>1.0</td>\n",
              "      <td>2017.0</td>\n",
              "      <td>1.0</td>\n",
              "      <td>2.0</td>\n",
              "      <td>0.0</td>\n",
              "      <td>6.0</td>\n",
              "    </tr>\n",
              "    <tr>\n",
              "      <th>1</th>\n",
              "      <td>s1</td>\n",
              "      <td>50</td>\n",
              "      <td>40917</td>\n",
              "      <td>c896</td>\n",
              "      <td>0.0</td>\n",
              "      <td>0.125000</td>\n",
              "      <td>8.0</td>\n",
              "      <td>2.95</td>\n",
              "      <td>11.28</td>\n",
              "      <td>1.95</td>\n",
              "      <td>2.0</td>\n",
              "      <td>20.0</td>\n",
              "      <td>2.0</td>\n",
              "      <td>1.0</td>\n",
              "      <td>1.0</td>\n",
              "      <td>2017.0</td>\n",
              "      <td>1.0</td>\n",
              "      <td>2.0</td>\n",
              "      <td>0.0</td>\n",
              "      <td>6.0</td>\n",
              "    </tr>\n",
              "    <tr>\n",
              "      <th>2</th>\n",
              "      <td>s1</td>\n",
              "      <td>50</td>\n",
              "      <td>136366</td>\n",
              "      <td>c896</td>\n",
              "      <td>0.0</td>\n",
              "      <td>0.833333</td>\n",
              "      <td>6.0</td>\n",
              "      <td>2.50</td>\n",
              "      <td>4.76</td>\n",
              "      <td>0.80</td>\n",
              "      <td>5.0</td>\n",
              "      <td>40.0</td>\n",
              "      <td>2.0</td>\n",
              "      <td>1.0</td>\n",
              "      <td>2.0</td>\n",
              "      <td>2017.0</td>\n",
              "      <td>1.0</td>\n",
              "      <td>2.0</td>\n",
              "      <td>0.0</td>\n",
              "      <td>6.0</td>\n",
              "    </tr>\n",
              "    <tr>\n",
              "      <th>3</th>\n",
              "      <td>s1</td>\n",
              "      <td>50</td>\n",
              "      <td>136344</td>\n",
              "      <td>c762</td>\n",
              "      <td>0.0</td>\n",
              "      <td>0.375000</td>\n",
              "      <td>8.0</td>\n",
              "      <td>3.95</td>\n",
              "      <td>15.04</td>\n",
              "      <td>1.55</td>\n",
              "      <td>2.0</td>\n",
              "      <td>20.0</td>\n",
              "      <td>2.0</td>\n",
              "      <td>1.0</td>\n",
              "      <td>1.0</td>\n",
              "      <td>2017.0</td>\n",
              "      <td>1.0</td>\n",
              "      <td>2.0</td>\n",
              "      <td>0.0</td>\n",
              "      <td>6.0</td>\n",
              "    </tr>\n",
              "    <tr>\n",
              "      <th>4</th>\n",
              "      <td>s1</td>\n",
              "      <td>50</td>\n",
              "      <td>136078</td>\n",
              "      <td>c672</td>\n",
              "      <td>0.0</td>\n",
              "      <td>0.750000</td>\n",
              "      <td>4.0</td>\n",
              "      <td>2.80</td>\n",
              "      <td>4.56</td>\n",
              "      <td>1.15</td>\n",
              "      <td>2.0</td>\n",
              "      <td>12.0</td>\n",
              "      <td>2.0</td>\n",
              "      <td>1.0</td>\n",
              "      <td>1.0</td>\n",
              "      <td>2017.0</td>\n",
              "      <td>1.0</td>\n",
              "      <td>2.0</td>\n",
              "      <td>0.0</td>\n",
              "      <td>6.0</td>\n",
              "    </tr>\n",
              "  </tbody>\n",
              "</table>\n",
              "</div>\n",
              "      <button class=\"colab-df-convert\" onclick=\"convertToInteractive('df-eff31db3-a336-47eb-afe7-234f136c6f10')\"\n",
              "              title=\"Convert this dataframe to an interactive table.\"\n",
              "              style=\"display:none;\">\n",
              "        \n",
              "  <svg xmlns=\"http://www.w3.org/2000/svg\" height=\"24px\"viewBox=\"0 0 24 24\"\n",
              "       width=\"24px\">\n",
              "    <path d=\"M0 0h24v24H0V0z\" fill=\"none\"/>\n",
              "    <path d=\"M18.56 5.44l.94 2.06.94-2.06 2.06-.94-2.06-.94-.94-2.06-.94 2.06-2.06.94zm-11 1L8.5 8.5l.94-2.06 2.06-.94-2.06-.94L8.5 2.5l-.94 2.06-2.06.94zm10 10l.94 2.06.94-2.06 2.06-.94-2.06-.94-.94-2.06-.94 2.06-2.06.94z\"/><path d=\"M17.41 7.96l-1.37-1.37c-.4-.4-.92-.59-1.43-.59-.52 0-1.04.2-1.43.59L10.3 9.45l-7.72 7.72c-.78.78-.78 2.05 0 2.83L4 21.41c.39.39.9.59 1.41.59.51 0 1.02-.2 1.41-.59l7.78-7.78 2.81-2.81c.8-.78.8-2.07 0-2.86zM5.41 20L4 18.59l7.72-7.72 1.47 1.35L5.41 20z\"/>\n",
              "  </svg>\n",
              "      </button>\n",
              "      \n",
              "  <style>\n",
              "    .colab-df-container {\n",
              "      display:flex;\n",
              "      flex-wrap:wrap;\n",
              "      gap: 12px;\n",
              "    }\n",
              "\n",
              "    .colab-df-convert {\n",
              "      background-color: #E8F0FE;\n",
              "      border: none;\n",
              "      border-radius: 50%;\n",
              "      cursor: pointer;\n",
              "      display: none;\n",
              "      fill: #1967D2;\n",
              "      height: 32px;\n",
              "      padding: 0 0 0 0;\n",
              "      width: 32px;\n",
              "    }\n",
              "\n",
              "    .colab-df-convert:hover {\n",
              "      background-color: #E2EBFA;\n",
              "      box-shadow: 0px 1px 2px rgba(60, 64, 67, 0.3), 0px 1px 3px 1px rgba(60, 64, 67, 0.15);\n",
              "      fill: #174EA6;\n",
              "    }\n",
              "\n",
              "    [theme=dark] .colab-df-convert {\n",
              "      background-color: #3B4455;\n",
              "      fill: #D2E3FC;\n",
              "    }\n",
              "\n",
              "    [theme=dark] .colab-df-convert:hover {\n",
              "      background-color: #434B5C;\n",
              "      box-shadow: 0px 1px 3px 1px rgba(0, 0, 0, 0.15);\n",
              "      filter: drop-shadow(0px 1px 2px rgba(0, 0, 0, 0.3));\n",
              "      fill: #FFFFFF;\n",
              "    }\n",
              "  </style>\n",
              "\n",
              "      <script>\n",
              "        const buttonEl =\n",
              "          document.querySelector('#df-eff31db3-a336-47eb-afe7-234f136c6f10 button.colab-df-convert');\n",
              "        buttonEl.style.display =\n",
              "          google.colab.kernel.accessAllowed ? 'block' : 'none';\n",
              "\n",
              "        async function convertToInteractive(key) {\n",
              "          const element = document.querySelector('#df-eff31db3-a336-47eb-afe7-234f136c6f10');\n",
              "          const dataTable =\n",
              "            await google.colab.kernel.invokeFunction('convertToInteractive',\n",
              "                                                     [key], {});\n",
              "          if (!dataTable) return;\n",
              "\n",
              "          const docLinkHtml = 'Like what you see? Visit the ' +\n",
              "            '<a target=\"_blank\" href=https://colab.research.google.com/notebooks/data_table.ipynb>data table notebook</a>'\n",
              "            + ' to learn more about interactive tables.';\n",
              "          element.innerHTML = '';\n",
              "          dataTable['output_type'] = 'display_data';\n",
              "          await google.colab.output.renderOutput(dataTable, element);\n",
              "          const docLink = document.createElement('div');\n",
              "          docLink.innerHTML = docLinkHtml;\n",
              "          element.appendChild(docLink);\n",
              "        }\n",
              "      </script>\n",
              "    </div>\n",
              "  </div>\n",
              "  "
            ]
          },
          "metadata": {},
          "execution_count": 75
        }
      ]
    },
    {
      "cell_type": "code",
      "metadata": {
        "id": "zVwPt2_q8C8J"
      },
      "source": [
        "# appending predicted value to dataset to compare with actual value\n",
        "new_df['pred_train'] = y_train_xgb_pred"
      ],
      "execution_count": 76,
      "outputs": []
    },
    {
      "cell_type": "code",
      "metadata": {
        "id": "pI2xjXFI8qZb",
        "colab": {
          "base_uri": "https://localhost:8080/",
          "height": 283
        },
        "outputId": "e97456e2-4165-44b4-ecee-3c2a9f34a208"
      },
      "source": [
        "# plotting actual and predicted order quantity for stores\n",
        "new_df[['actual_order_quantity','pred_train']].plot()"
      ],
      "execution_count": 77,
      "outputs": [
        {
          "output_type": "execute_result",
          "data": {
            "text/plain": [
              "<matplotlib.axes._subplots.AxesSubplot at 0x7fa12af88190>"
            ]
          },
          "metadata": {},
          "execution_count": 77
        },
        {
          "output_type": "display_data",
          "data": {
            "text/plain": [
              "<Figure size 432x288 with 1 Axes>"
            ],
            "image/png": "[encoded data removed]"
          },
          "metadata": {
            "needs_background": "light"
          }
        }
      ]
    },
    {
      "cell_type": "code",
      "metadata": {
        "id": "pLi4BWOz9Gi8"
      },
      "source": [
        "# getting copy of sample test data for further use\n",
        "new_test_df = sample_test.copy()"
      ],
      "execution_count": 78,
      "outputs": []
    },
    {
      "cell_type": "code",
      "metadata": {
        "id": "YIY9gFGv9nVk"
      },
      "source": [
        "# appending predicted result to dataset to compare\n",
        "new_test_df['pred_test'] = y_test_xgb_pred"
      ],
      "execution_count": 79,
      "outputs": []
    },
    {
      "cell_type": "code",
      "metadata": {
        "id": "0e7xn2bd9-Ht",
        "colab": {
          "base_uri": "https://localhost:8080/",
          "height": 299
        },
        "outputId": "6ec8a161-2187-4db1-afff-30b3923ad322"
      },
      "source": [
        "new_test_df.head()"
      ],
      "execution_count": 80,
      "outputs": [
        {
          "output_type": "execute_result",
          "data": {
            "text/plain": [
              "     store supplier_id product_id category  on_order_quantity  \\\n",
              "7665    s1          90     141367    c1037                  0   \n",
              "7666    s1          70     110080    c1101                  0   \n",
              "7667    s1          70     140024    c1045                  0   \n",
              "7668    s1          50      32945     c793                  0   \n",
              "7669    s1          50     109253     c771                  0   \n",
              "\n",
              "      on_hand_quantity  product_case_pack  retail_price  \\\n",
              "7665          0.800000                  5         16.90   \n",
              "7666          0.388888                 18         17.95   \n",
              "7667          1.750000                  4         15.90   \n",
              "7668          2.166666                  6          4.85   \n",
              "7669          2.000000                  1          1.50   \n",
              "\n",
              "      replenishment_unit_cost  Ao_Forecast_Quantity  ...  \\\n",
              "7665                    35.70               1.20000  ...   \n",
              "7666                   144.72               4.60000  ...   \n",
              "7667                    26.00               4.60000  ...   \n",
              "7668                     9.12              25.45202  ...   \n",
              "7669                     0.56               2.50000  ...   \n",
              "\n",
              "      Maximum_Order_Quantity  lead_time  suggested_order_quantity  \\\n",
              "7665                       6          2                         1   \n",
              "7666                      50          2                         1   \n",
              "7667                      50          2                         1   \n",
              "7668                     100          2                         4   \n",
              "7669                      40          2                         3   \n",
              "\n",
              "      actual_order_quantity  order_date_year  order_date_month  \\\n",
              "7665                    1.0             2018                 3   \n",
              "7666                    1.0             2018                 3   \n",
              "7667                    1.0             2018                 3   \n",
              "7668                    2.0             2018                 3   \n",
              "7669                    3.0             2018                 3   \n",
              "\n",
              "      order_date_day  order_date_day_of_week  forecast_period  pred_test  \n",
              "7665               6                       1               11   1.068365  \n",
              "7666               6                       1               28   1.098599  \n",
              "7667               6                       1               28   1.490939  \n",
              "7668               7                       2                7   3.026045  \n",
              "7669               7                       2                7   2.966349  \n",
              "\n",
              "[5 rows x 21 columns]"
            ],
            "text/html": [
              "\n",
              "  <div id=\"df-b00aa64a-b012-470d-9287-e5d27f8b968a\">\n",
              "    <div class=\"colab-df-container\">\n",
              "      <div>\n",
              "<style scoped>\n",
              "    .dataframe tbody tr th:only-of-type {\n",
              "        vertical-align: middle;\n",
              "    }\n",
              "\n",
              "    .dataframe tbody tr th {\n",
              "        vertical-align: top;\n",
              "    }\n",
              "\n",
              "    .dataframe thead th {\n",
              "        text-align: right;\n",
              "    }\n",
              "</style>\n",
              "<table border=\"1\" class=\"dataframe\">\n",
              "  <thead>\n",
              "    <tr style=\"text-align: right;\">\n",
              "      <th></th>\n",
              "      <th>store</th>\n",
              "      <th>supplier_id</th>\n",
              "      <th>product_id</th>\n",
              "      <th>category</th>\n",
              "      <th>on_order_quantity</th>\n",
              "      <th>on_hand_quantity</th>\n",
              "      <th>product_case_pack</th>\n",
              "      <th>retail_price</th>\n",
              "      <th>replenishment_unit_cost</th>\n",
              "      <th>Ao_Forecast_Quantity</th>\n",
              "      <th>...</th>\n",
              "      <th>Maximum_Order_Quantity</th>\n",
              "      <th>lead_time</th>\n",
              "      <th>suggested_order_quantity</th>\n",
              "      <th>actual_order_quantity</th>\n",
              "      <th>order_date_year</th>\n",
              "      <th>order_date_month</th>\n",
              "      <th>order_date_day</th>\n",
              "      <th>order_date_day_of_week</th>\n",
              "      <th>forecast_period</th>\n",
              "      <th>pred_test</th>\n",
              "    </tr>\n",
              "  </thead>\n",
              "  <tbody>\n",
              "    <tr>\n",
              "      <th>7665</th>\n",
              "      <td>s1</td>\n",
              "      <td>90</td>\n",
              "      <td>141367</td>\n",
              "      <td>c1037</td>\n",
              "      <td>0</td>\n",
              "      <td>0.800000</td>\n",
              "      <td>5</td>\n",
              "      <td>16.90</td>\n",
              "      <td>35.70</td>\n",
              "      <td>1.20000</td>\n",
              "      <td>...</td>\n",
              "      <td>6</td>\n",
              "      <td>2</td>\n",
              "      <td>1</td>\n",
              "      <td>1.0</td>\n",
              "      <td>2018</td>\n",
              "      <td>3</td>\n",
              "      <td>6</td>\n",
              "      <td>1</td>\n",
              "      <td>11</td>\n",
              "      <td>1.068365</td>\n",
              "    </tr>\n",
              "    <tr>\n",
              "      <th>7666</th>\n",
              "      <td>s1</td>\n",
              "      <td>70</td>\n",
              "      <td>110080</td>\n",
              "      <td>c1101</td>\n",
              "      <td>0</td>\n",
              "      <td>0.388888</td>\n",
              "      <td>18</td>\n",
              "      <td>17.95</td>\n",
              "      <td>144.72</td>\n",
              "      <td>4.60000</td>\n",
              "      <td>...</td>\n",
              "      <td>50</td>\n",
              "      <td>2</td>\n",
              "      <td>1</td>\n",
              "      <td>1.0</td>\n",
              "      <td>2018</td>\n",
              "      <td>3</td>\n",
              "      <td>6</td>\n",
              "      <td>1</td>\n",
              "      <td>28</td>\n",
              "      <td>1.098599</td>\n",
              "    </tr>\n",
              "    <tr>\n",
              "      <th>7667</th>\n",
              "      <td>s1</td>\n",
              "      <td>70</td>\n",
              "      <td>140024</td>\n",
              "      <td>c1045</td>\n",
              "      <td>0</td>\n",
              "      <td>1.750000</td>\n",
              "      <td>4</td>\n",
              "      <td>15.90</td>\n",
              "      <td>26.00</td>\n",
              "      <td>4.60000</td>\n",
              "      <td>...</td>\n",
              "      <td>50</td>\n",
              "      <td>2</td>\n",
              "      <td>1</td>\n",
              "      <td>1.0</td>\n",
              "      <td>2018</td>\n",
              "      <td>3</td>\n",
              "      <td>6</td>\n",
              "      <td>1</td>\n",
              "      <td>28</td>\n",
              "      <td>1.490939</td>\n",
              "    </tr>\n",
              "    <tr>\n",
              "      <th>7668</th>\n",
              "      <td>s1</td>\n",
              "      <td>50</td>\n",
              "      <td>32945</td>\n",
              "      <td>c793</td>\n",
              "      <td>0</td>\n",
              "      <td>2.166666</td>\n",
              "      <td>6</td>\n",
              "      <td>4.85</td>\n",
              "      <td>9.12</td>\n",
              "      <td>25.45202</td>\n",
              "      <td>...</td>\n",
              "      <td>100</td>\n",
              "      <td>2</td>\n",
              "      <td>4</td>\n",
              "      <td>2.0</td>\n",
              "      <td>2018</td>\n",
              "      <td>3</td>\n",
              "      <td>7</td>\n",
              "      <td>2</td>\n",
              "      <td>7</td>\n",
              "      <td>3.026045</td>\n",
              "    </tr>\n",
              "    <tr>\n",
              "      <th>7669</th>\n",
              "      <td>s1</td>\n",
              "      <td>50</td>\n",
              "      <td>109253</td>\n",
              "      <td>c771</td>\n",
              "      <td>0</td>\n",
              "      <td>2.000000</td>\n",
              "      <td>1</td>\n",
              "      <td>1.50</td>\n",
              "      <td>0.56</td>\n",
              "      <td>2.50000</td>\n",
              "      <td>...</td>\n",
              "      <td>40</td>\n",
              "      <td>2</td>\n",
              "      <td>3</td>\n",
              "      <td>3.0</td>\n",
              "      <td>2018</td>\n",
              "      <td>3</td>\n",
              "      <td>7</td>\n",
              "      <td>2</td>\n",
              "      <td>7</td>\n",
              "      <td>2.966349</td>\n",
              "    </tr>\n",
              "  </tbody>\n",
              "</table>\n",
              "<p>5 rows × 21 columns</p>\n",
              "</div>\n",
              "      <button class=\"colab-df-convert\" onclick=\"convertToInteractive('df-b00aa64a-b012-470d-9287-e5d27f8b968a')\"\n",
              "              title=\"Convert this dataframe to an interactive table.\"\n",
              "              style=\"display:none;\">\n",
              "        \n",
              "  <svg xmlns=\"http://www.w3.org/2000/svg\" height=\"24px\"viewBox=\"0 0 24 24\"\n",
              "       width=\"24px\">\n",
              "    <path d=\"M0 0h24v24H0V0z\" fill=\"none\"/>\n",
              "    <path d=\"M18.56 5.44l.94 2.06.94-2.06 2.06-.94-2.06-.94-.94-2.06-.94 2.06-2.06.94zm-11 1L8.5 8.5l.94-2.06 2.06-.94-2.06-.94L8.5 2.5l-.94 2.06-2.06.94zm10 10l.94 2.06.94-2.06 2.06-.94-2.06-.94-.94-2.06-.94 2.06-2.06.94z\"/><path d=\"M17.41 7.96l-1.37-1.37c-.4-.4-.92-.59-1.43-.59-.52 0-1.04.2-1.43.59L10.3 9.45l-7.72 7.72c-.78.78-.78 2.05 0 2.83L4 21.41c.39.39.9.59 1.41.59.51 0 1.02-.2 1.41-.59l7.78-7.78 2.81-2.81c.8-.78.8-2.07 0-2.86zM5.41 20L4 18.59l7.72-7.72 1.47 1.35L5.41 20z\"/>\n",
              "  </svg>\n",
              "      </button>\n",
              "      \n",
              "  <style>\n",
              "    .colab-df-container {\n",
              "      display:flex;\n",
              "      flex-wrap:wrap;\n",
              "      gap: 12px;\n",
              "    }\n",
              "\n",
              "    .colab-df-convert {\n",
              "      background-color: #E8F0FE;\n",
              "      border: none;\n",
              "      border-radius: 50%;\n",
              "      cursor: pointer;\n",
              "      display: none;\n",
              "      fill: #1967D2;\n",
              "      height: 32px;\n",
              "      padding: 0 0 0 0;\n",
              "      width: 32px;\n",
              "    }\n",
              "\n",
              "    .colab-df-convert:hover {\n",
              "      background-color: #E2EBFA;\n",
              "      box-shadow: 0px 1px 2px rgba(60, 64, 67, 0.3), 0px 1px 3px 1px rgba(60, 64, 67, 0.15);\n",
              "      fill: #174EA6;\n",
              "    }\n",
              "\n",
              "    [theme=dark] .colab-df-convert {\n",
              "      background-color: #3B4455;\n",
              "      fill: #D2E3FC;\n",
              "    }\n",
              "\n",
              "    [theme=dark] .colab-df-convert:hover {\n",
              "      background-color: #434B5C;\n",
              "      box-shadow: 0px 1px 3px 1px rgba(0, 0, 0, 0.15);\n",
              "      filter: drop-shadow(0px 1px 2px rgba(0, 0, 0, 0.3));\n",
              "      fill: #FFFFFF;\n",
              "    }\n",
              "  </style>\n",
              "\n",
              "      <script>\n",
              "        const buttonEl =\n",
              "          document.querySelector('#df-b00aa64a-b012-470d-9287-e5d27f8b968a button.colab-df-convert');\n",
              "        buttonEl.style.display =\n",
              "          google.colab.kernel.accessAllowed ? 'block' : 'none';\n",
              "\n",
              "        async function convertToInteractive(key) {\n",
              "          const element = document.querySelector('#df-b00aa64a-b012-470d-9287-e5d27f8b968a');\n",
              "          const dataTable =\n",
              "            await google.colab.kernel.invokeFunction('convertToInteractive',\n",
              "                                                     [key], {});\n",
              "          if (!dataTable) return;\n",
              "\n",
              "          const docLinkHtml = 'Like what you see? Visit the ' +\n",
              "            '<a target=\"_blank\" href=https://colab.research.google.com/notebooks/data_table.ipynb>data table notebook</a>'\n",
              "            + ' to learn more about interactive tables.';\n",
              "          element.innerHTML = '';\n",
              "          dataTable['output_type'] = 'display_data';\n",
              "          await google.colab.output.renderOutput(dataTable, element);\n",
              "          const docLink = document.createElement('div');\n",
              "          docLink.innerHTML = docLinkHtml;\n",
              "          element.appendChild(docLink);\n",
              "        }\n",
              "      </script>\n",
              "    </div>\n",
              "  </div>\n",
              "  "
            ]
          },
          "metadata": {},
          "execution_count": 80
        }
      ]
    },
    {
      "cell_type": "code",
      "metadata": {
        "id": "WjsENfNA91v4",
        "colab": {
          "base_uri": "https://localhost:8080/",
          "height": 283
        },
        "outputId": "35d422e4-8b07-48c5-c297-888644e41f59"
      },
      "source": [
        "# plotting actual and predicted value on test data\n",
        "new_test_df[['actual_order_quantity','pred_test']].plot()"
      ],
      "execution_count": 81,
      "outputs": [
        {
          "output_type": "execute_result",
          "data": {
            "text/plain": [
              "<matplotlib.axes._subplots.AxesSubplot at 0x7fa12af4f350>"
            ]
          },
          "metadata": {},
          "execution_count": 81
        },
        {
          "output_type": "display_data",
          "data": {
            "text/plain": [
              "<Figure size 432x288 with 1 Axes>"
            ],
            "image/png": "[encoded data removed]"
          },
          "metadata": {
            "needs_background": "light"
          }
        }
      ]
    },
    {
      "cell_type": "code",
      "metadata": {
        "id": "wkm47e-H97-T"
      },
      "source": [
        ""
      ],
      "execution_count": null,
      "outputs": []
    }
  ]
}